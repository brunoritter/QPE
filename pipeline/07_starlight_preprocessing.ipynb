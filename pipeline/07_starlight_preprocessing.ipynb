{
 "cells": [
  {
   "cell_type": "markdown",
   "metadata": {},
   "source": [
    "#### Voronoi Binning"
   ]
  },
  {
   "cell_type": "code",
   "execution_count": 1,
   "metadata": {},
   "outputs": [],
   "source": [
    "import json\n",
    "import numpy as np\n",
    "import matplotlib.pyplot as plt\n",
    "from astropy.io import fits\n",
    "from astropy.wcs import WCS\n",
    "from vorbin.voronoi_2d_binning import voronoi_2d_binning\n",
    "from pycasso2.resampling import ReSamplingMatrixNonUniform"
   ]
  },
  {
   "cell_type": "code",
   "execution_count": 4,
   "metadata": {},
   "outputs": [],
   "source": [
    "with open(\"sci_files_object_mapping.json\", \"r\") as f:\n",
    "    sci_files_object_mapping = json.load(f)"
   ]
  },
  {
   "cell_type": "code",
   "execution_count": 19,
   "metadata": {},
   "outputs": [],
   "source": [
    "class VorbinUtils:\n",
    "    def __init__(self, filename, ini_w, fin_w):\n",
    "        with fits.open(filename) as hdul:\n",
    "            self.data = hdul[\"SCI\"].data\n",
    "            self.var = hdul[\"VAR\"].data\n",
    "            self.dq = hdul[\"DQ\"].data\n",
    "\n",
    "        fits_header = fits.getheader(filename, ext=(\"sci\", 1))\n",
    "        wcs = WCS(fits_header, naxis=[3])\n",
    "        wavelength = wcs.wcs_pix2world(np.arange(fits_header[\"NAXIS3\"]), 0)[0]\n",
    "\n",
    "        self.ini_index = np.where(np.round(wavelength) == ini_w)[0][0]\n",
    "        self.fin_index = np.where(np.round(wavelength) == fin_w)[0][0]\n",
    "\n",
    "    def voronoi_bin(self, target_sn):\n",
    "        sample = self.data[self.ini_index : self.fin_index, :, :]\n",
    "        sample_var = self.var[self.ini_index : self.fin_index, :, :]\n",
    "        sample_noise = np.sqrt(sample_var)\n",
    "\n",
    "        signal = np.nanmean(sample, axis=0)\n",
    "        noise = np.nanmean(sample_noise, axis=0) + 1e-10\n",
    "        x, y = np.indices(signal.shape)\n",
    "        x = x.ravel()\n",
    "        y = y.ravel()\n",
    "        bin_num, x_bin, y_bin, x_bar, y_bar, sn, n_pixels, scale = voronoi_2d_binning(\n",
    "            x, y, signal.ravel(), noise.ravel(), target_sn, plot=0, quiet=1\n",
    "        )\n",
    "\n",
    "        self.x_bar = x_bar\n",
    "        self.y_bar = y_bar\n",
    "\n",
    "        threshold = 0.3\n",
    "        self.bin_ids = list(set(bin_num))\n",
    "        binned_data = {}\n",
    "        for bin_id in self.bin_ids:\n",
    "            binned_data[bin_id] = {}\n",
    "            bin_mask = bin_num == bin_id\n",
    "            binx = x[bin_mask]\n",
    "            biny = y[bin_mask]\n",
    "            bin_mask = np.zeros(self.data[0, :, :].shape, dtype=bool)\n",
    "\n",
    "            signal_sum = np.zeros(self.data[:, 0, 0].shape)\n",
    "            var_sum = np.zeros(self.var[:, 0, 0].shape)\n",
    "\n",
    "            for pixx, pixy in zip(binx, biny):\n",
    "                signal_sum += self.data[:, pixx, pixy]\n",
    "                var_sum += self.var[:, pixx, pixy]\n",
    "                bin_mask[pixx, pixy] = True\n",
    "\n",
    "            binned_data[bin_id][\"quality_map\"] = np.zeros(self.data.shape[0])\n",
    "            for wavl in np.arange(self.data.shape[0]):\n",
    "                wavl_dq_plane = self.dq[wavl, :, :]\n",
    "                bad_data_ratio = np.round(\n",
    "                    np.sum(wavl_dq_plane[bin_mask]) / np.sum(bin_num == bin_id), 2\n",
    "                )\n",
    "                binned_data[bin_id][\"quality_map\"][wavl] = np.where(\n",
    "                    bad_data_ratio >= threshold, 2, 0\n",
    "                ).astype(int)\n",
    "            bin_signal = signal_sum / len(binx)\n",
    "            bin_var = var_sum / len(binx)\n",
    "            binned_data[bin_id][\"signal\"] = bin_signal\n",
    "            binned_data[bin_id][\"var\"] = bin_var\n",
    "\n",
    "        self.binned_data = binned_data\n",
    "\n",
    "    def calculate_true_snr(self, plot=False):\n",
    "        true_snr = {}\n",
    "        for bin_id in self.bin_ids:\n",
    "            signal = np.mean(\n",
    "                self.binned_data[bin_id][\"signal\"][self.ini_index : self.fin_index]\n",
    "            )\n",
    "            noise = np.mean(\n",
    "                np.sqrt(\n",
    "                    self.binned_data[bin_id][\"var\"][self.ini_index : self.fin_index]\n",
    "                )\n",
    "            )\n",
    "            true_snr[bin_id] = signal / noise\n",
    "\n",
    "        all_bins = list(true_snr.keys())\n",
    "        x_all = np.array(self.x_bar)[all_bins]\n",
    "        y_all = np.array(self.y_bar)[all_bins]\n",
    "        snr_values = np.array(list(true_snr.values()))\n",
    "        good_snr_indices = [index for index, snr in enumerate(snr_values) if snr > 5]\n",
    "        print(f\"Good bins: {len(good_snr_indices)}\")\n",
    "        print(f\"Share of good bins: {np.round(len(good_snr_indices)/len(all_bins), 3)}\")\n",
    "        bad_snr_indices = [index for index, snr in enumerate(snr_values) if snr < 5]\n",
    "        really_bad_snr_indices = [\n",
    "            index for index, snr in enumerate(snr_values) if snr < 4\n",
    "        ]\n",
    "\n",
    "        if plot:\n",
    "            # plt.figure(figsize=(15, 10))\n",
    "            plt.scatter(\n",
    "                x_all[bad_snr_indices],\n",
    "                y_all[bad_snr_indices],\n",
    "                c=\"black\",\n",
    "                marker=\"x\",\n",
    "                s=90,\n",
    "                label=\"SNR < 5\",\n",
    "            )\n",
    "            plt.scatter(\n",
    "                x_all[really_bad_snr_indices],\n",
    "                y_all[really_bad_snr_indices],\n",
    "                c=\"red\",\n",
    "                marker=\"x\",\n",
    "                s=90,\n",
    "                label=\"SNR < 4\",\n",
    "            )\n",
    "\n",
    "            cmap = plt.cm.jet\n",
    "            sc = plt.scatter(\n",
    "                x_all,\n",
    "                y_all,\n",
    "                c=snr_values,\n",
    "                cmap=cmap,\n",
    "                vmin=min(snr_values),\n",
    "                vmax=max(snr_values),\n",
    "            )\n",
    "            plt.colorbar(sc, ax=plt.gca(), label=\"SNR\")\n",
    "            plt.legend()\n",
    "            plt.tight_layout()\n",
    "            plt.gca().set_aspect(\"equal\")\n",
    "            plt.title(\"SNR heatmap - GSN 069\")\n",
    "            plt.xlabel(\"X coordinate\")\n",
    "            plt.ylabel(\"Y coordinate\")\n",
    "            plt.show()"
   ]
  },
  {
   "cell_type": "code",
   "execution_count": 20,
   "metadata": {},
   "outputs": [
    {
     "name": "stderr",
     "output_type": "stream",
     "text": [
      "WARNING: FITSFixedWarning: RADECSYS= 'FK5 ' / R.A./DEC. coordinate system reference \n",
      "the RADECSYS keyword is deprecated, use RADESYSa. [astropy.wcs.wcs]\n"
     ]
    },
    {
     "name": "stdout",
     "output_type": "stream",
     "text": [
      "Good bins: 27\n",
      "Share of good bins: 0.587\n"
     ]
    },
    {
     "data": {
      "image/png": "[encoded data removed]",
      "text/plain": [
       "<Figure size 640x480 with 2 Axes>"
      ]
     },
     "metadata": {},
     "output_type": "display_data"
    }
   ],
   "source": [
    "# GSN 069\n",
    "ini_w = 5655\n",
    "fin_w = 5745\n",
    "target_sn = 15\n",
    "\n",
    "object_name = list(sci_files_object_mapping.keys())[1]\n",
    "name = object_name.replace(\" \", \"\").lower()\n",
    "filename = f\"redux/{name}_pca_combined_spectra_ext_3D.fits\"\n",
    "vor = VorbinUtils(filename, ini_w, fin_w)\n",
    "vor.voronoi_bin(target_sn)\n",
    "vor.calculate_true_snr(plot=True)"
   ]
  },
  {
   "cell_type": "code",
   "execution_count": 21,
   "metadata": {},
   "outputs": [
    {
     "ename": "FileNotFoundError",
     "evalue": "[Errno 2] No such file or directory: 'redux/ero-qpe2_pca_combined_spectra_ext_3D.fits'",
     "output_type": "error",
     "traceback": [
      "\u001b[0;31m---------------------------------------------------------------------------\u001b[0m",
      "\u001b[0;31mFileNotFoundError\u001b[0m                         Traceback (most recent call last)",
      "Cell \u001b[0;32mIn[21], line 8\u001b[0m\n\u001b[1;32m      6\u001b[0m name \u001b[38;5;241m=\u001b[39m object_name\u001b[38;5;241m.\u001b[39mreplace(\u001b[38;5;124m\"\u001b[39m\u001b[38;5;124m \u001b[39m\u001b[38;5;124m\"\u001b[39m, \u001b[38;5;124m\"\u001b[39m\u001b[38;5;124m\"\u001b[39m)\u001b[38;5;241m.\u001b[39mlower()\n\u001b[1;32m      7\u001b[0m filename \u001b[38;5;241m=\u001b[39m \u001b[38;5;124mf\u001b[39m\u001b[38;5;124m\"\u001b[39m\u001b[38;5;124mredux/\u001b[39m\u001b[38;5;132;01m{\u001b[39;00mname\u001b[38;5;132;01m}\u001b[39;00m\u001b[38;5;124m_pca_combined_spectra_ext_3D.fits\u001b[39m\u001b[38;5;124m\"\u001b[39m\n\u001b[0;32m----> 8\u001b[0m vor \u001b[38;5;241m=\u001b[39m VorbinUtils(filename, ini_w, fin_w)\n\u001b[1;32m      9\u001b[0m vor\u001b[38;5;241m.\u001b[39mvoronoi_bin(target_sn)\n\u001b[1;32m     10\u001b[0m vor\u001b[38;5;241m.\u001b[39mcalculate_true_snr(plot\u001b[38;5;241m=\u001b[39m\u001b[38;5;28;01mTrue\u001b[39;00m)\n",
      "Cell \u001b[0;32mIn[19], line 3\u001b[0m, in \u001b[0;36mVorbinUtils.__init__\u001b[0;34m(self, filename, ini_w, fin_w)\u001b[0m\n\u001b[1;32m      2\u001b[0m \u001b[38;5;28;01mdef\u001b[39;00m \u001b[38;5;21m__init__\u001b[39m(\u001b[38;5;28mself\u001b[39m, filename, ini_w, fin_w):\n\u001b[0;32m----> 3\u001b[0m     \u001b[38;5;28;01mwith\u001b[39;00m fits\u001b[38;5;241m.\u001b[39mopen(filename) \u001b[38;5;28;01mas\u001b[39;00m hdul:\n\u001b[1;32m      4\u001b[0m         \u001b[38;5;28mself\u001b[39m\u001b[38;5;241m.\u001b[39mdata \u001b[38;5;241m=\u001b[39m hdul[\u001b[38;5;124m\"\u001b[39m\u001b[38;5;124mSCI\u001b[39m\u001b[38;5;124m\"\u001b[39m]\u001b[38;5;241m.\u001b[39mdata\n\u001b[1;32m      5\u001b[0m         \u001b[38;5;28mself\u001b[39m\u001b[38;5;241m.\u001b[39mvar \u001b[38;5;241m=\u001b[39m hdul[\u001b[38;5;124m\"\u001b[39m\u001b[38;5;124mVAR\u001b[39m\u001b[38;5;124m\"\u001b[39m]\u001b[38;5;241m.\u001b[39mdata\n",
      "File \u001b[0;32m~/miniconda3/envs/qperedux/lib/python3.11/site-packages/astropy/io/fits/hdu/hdulist.py:214\u001b[0m, in \u001b[0;36mfitsopen\u001b[0;34m(name, mode, memmap, save_backup, cache, lazy_load_hdus, ignore_missing_simple, use_fsspec, fsspec_kwargs, **kwargs)\u001b[0m\n\u001b[1;32m    211\u001b[0m \u001b[38;5;28;01mif\u001b[39;00m \u001b[38;5;129;01mnot\u001b[39;00m name:\n\u001b[1;32m    212\u001b[0m     \u001b[38;5;28;01mraise\u001b[39;00m \u001b[38;5;167;01mValueError\u001b[39;00m(\u001b[38;5;124mf\u001b[39m\u001b[38;5;124m\"\u001b[39m\u001b[38;5;124mEmpty filename: \u001b[39m\u001b[38;5;132;01m{\u001b[39;00mname\u001b[38;5;132;01m!r}\u001b[39;00m\u001b[38;5;124m\"\u001b[39m)\n\u001b[0;32m--> 214\u001b[0m \u001b[38;5;28;01mreturn\u001b[39;00m HDUList\u001b[38;5;241m.\u001b[39mfromfile(\n\u001b[1;32m    215\u001b[0m     name,\n\u001b[1;32m    216\u001b[0m     mode,\n\u001b[1;32m    217\u001b[0m     memmap,\n\u001b[1;32m    218\u001b[0m     save_backup,\n\u001b[1;32m    219\u001b[0m     cache,\n\u001b[1;32m    220\u001b[0m     lazy_load_hdus,\n\u001b[1;32m    221\u001b[0m     ignore_missing_simple,\n\u001b[1;32m    222\u001b[0m     use_fsspec\u001b[38;5;241m=\u001b[39muse_fsspec,\n\u001b[1;32m    223\u001b[0m     fsspec_kwargs\u001b[38;5;241m=\u001b[39mfsspec_kwargs,\n\u001b[1;32m    224\u001b[0m     \u001b[38;5;241m*\u001b[39m\u001b[38;5;241m*\u001b[39mkwargs,\n\u001b[1;32m    225\u001b[0m )\n",
      "File \u001b[0;32m~/miniconda3/envs/qperedux/lib/python3.11/site-packages/astropy/io/fits/hdu/hdulist.py:482\u001b[0m, in \u001b[0;36mHDUList.fromfile\u001b[0;34m(cls, fileobj, mode, memmap, save_backup, cache, lazy_load_hdus, ignore_missing_simple, **kwargs)\u001b[0m\n\u001b[1;32m    462\u001b[0m \u001b[38;5;129m@classmethod\u001b[39m\n\u001b[1;32m    463\u001b[0m \u001b[38;5;28;01mdef\u001b[39;00m \u001b[38;5;21mfromfile\u001b[39m(\n\u001b[1;32m    464\u001b[0m     \u001b[38;5;28mcls\u001b[39m,\n\u001b[0;32m   (...)\u001b[0m\n\u001b[1;32m    472\u001b[0m     \u001b[38;5;241m*\u001b[39m\u001b[38;5;241m*\u001b[39mkwargs,\n\u001b[1;32m    473\u001b[0m ):\n\u001b[1;32m    474\u001b[0m \u001b[38;5;250m    \u001b[39m\u001b[38;5;124;03m\"\"\"\u001b[39;00m\n\u001b[1;32m    475\u001b[0m \u001b[38;5;124;03m    Creates an `HDUList` instance from a file-like object.\u001b[39;00m\n\u001b[1;32m    476\u001b[0m \n\u001b[0;32m   (...)\u001b[0m\n\u001b[1;32m    479\u001b[0m \u001b[38;5;124;03m    documentation for details of the parameters accepted by this method).\u001b[39;00m\n\u001b[1;32m    480\u001b[0m \u001b[38;5;124;03m    \"\"\"\u001b[39;00m\n\u001b[0;32m--> 482\u001b[0m     \u001b[38;5;28;01mreturn\u001b[39;00m \u001b[38;5;28mcls\u001b[39m\u001b[38;5;241m.\u001b[39m_readfrom(\n\u001b[1;32m    483\u001b[0m         fileobj\u001b[38;5;241m=\u001b[39mfileobj,\n\u001b[1;32m    484\u001b[0m         mode\u001b[38;5;241m=\u001b[39mmode,\n\u001b[1;32m    485\u001b[0m         memmap\u001b[38;5;241m=\u001b[39mmemmap,\n\u001b[1;32m    486\u001b[0m         save_backup\u001b[38;5;241m=\u001b[39msave_backup,\n\u001b[1;32m    487\u001b[0m         cache\u001b[38;5;241m=\u001b[39mcache,\n\u001b[1;32m    488\u001b[0m         ignore_missing_simple\u001b[38;5;241m=\u001b[39mignore_missing_simple,\n\u001b[1;32m    489\u001b[0m         lazy_load_hdus\u001b[38;5;241m=\u001b[39mlazy_load_hdus,\n\u001b[1;32m    490\u001b[0m         \u001b[38;5;241m*\u001b[39m\u001b[38;5;241m*\u001b[39mkwargs,\n\u001b[1;32m    491\u001b[0m     )\n",
      "File \u001b[0;32m~/miniconda3/envs/qperedux/lib/python3.11/site-packages/astropy/io/fits/hdu/hdulist.py:1170\u001b[0m, in \u001b[0;36mHDUList._readfrom\u001b[0;34m(cls, fileobj, data, mode, memmap, cache, lazy_load_hdus, ignore_missing_simple, use_fsspec, fsspec_kwargs, **kwargs)\u001b[0m\n\u001b[1;32m   1167\u001b[0m \u001b[38;5;28;01mif\u001b[39;00m fileobj \u001b[38;5;129;01mis\u001b[39;00m \u001b[38;5;129;01mnot\u001b[39;00m \u001b[38;5;28;01mNone\u001b[39;00m:\n\u001b[1;32m   1168\u001b[0m     \u001b[38;5;28;01mif\u001b[39;00m \u001b[38;5;129;01mnot\u001b[39;00m \u001b[38;5;28misinstance\u001b[39m(fileobj, _File):\n\u001b[1;32m   1169\u001b[0m         \u001b[38;5;66;03m# instantiate a FITS file object (ffo)\u001b[39;00m\n\u001b[0;32m-> 1170\u001b[0m         fileobj \u001b[38;5;241m=\u001b[39m _File(\n\u001b[1;32m   1171\u001b[0m             fileobj,\n\u001b[1;32m   1172\u001b[0m             mode\u001b[38;5;241m=\u001b[39mmode,\n\u001b[1;32m   1173\u001b[0m             memmap\u001b[38;5;241m=\u001b[39mmemmap,\n\u001b[1;32m   1174\u001b[0m             cache\u001b[38;5;241m=\u001b[39mcache,\n\u001b[1;32m   1175\u001b[0m             use_fsspec\u001b[38;5;241m=\u001b[39muse_fsspec,\n\u001b[1;32m   1176\u001b[0m             fsspec_kwargs\u001b[38;5;241m=\u001b[39mfsspec_kwargs,\n\u001b[1;32m   1177\u001b[0m         )\n\u001b[1;32m   1178\u001b[0m     \u001b[38;5;66;03m# The Astropy mode is determined by the _File initializer if the\u001b[39;00m\n\u001b[1;32m   1179\u001b[0m     \u001b[38;5;66;03m# supplied mode was None\u001b[39;00m\n\u001b[1;32m   1180\u001b[0m     mode \u001b[38;5;241m=\u001b[39m fileobj\u001b[38;5;241m.\u001b[39mmode\n",
      "File \u001b[0;32m~/miniconda3/envs/qperedux/lib/python3.11/site-packages/astropy/io/fits/file.py:218\u001b[0m, in \u001b[0;36m_File.__init__\u001b[0;34m(self, fileobj, mode, memmap, overwrite, cache, use_fsspec, fsspec_kwargs)\u001b[0m\n\u001b[1;32m    216\u001b[0m     \u001b[38;5;28mself\u001b[39m\u001b[38;5;241m.\u001b[39m_open_fileobj(fileobj, mode, overwrite)\n\u001b[1;32m    217\u001b[0m \u001b[38;5;28;01melif\u001b[39;00m \u001b[38;5;28misinstance\u001b[39m(fileobj, (\u001b[38;5;28mstr\u001b[39m, \u001b[38;5;28mbytes\u001b[39m)):\n\u001b[0;32m--> 218\u001b[0m     \u001b[38;5;28mself\u001b[39m\u001b[38;5;241m.\u001b[39m_open_filename(fileobj, mode, overwrite)\n\u001b[1;32m    219\u001b[0m \u001b[38;5;28;01melse\u001b[39;00m:\n\u001b[1;32m    220\u001b[0m     \u001b[38;5;28mself\u001b[39m\u001b[38;5;241m.\u001b[39m_open_filelike(fileobj, mode, overwrite)\n",
      "File \u001b[0;32m~/miniconda3/envs/qperedux/lib/python3.11/site-packages/astropy/io/fits/file.py:636\u001b[0m, in \u001b[0;36m_File._open_filename\u001b[0;34m(self, filename, mode, overwrite)\u001b[0m\n\u001b[1;32m    633\u001b[0m ext \u001b[38;5;241m=\u001b[39m os\u001b[38;5;241m.\u001b[39mpath\u001b[38;5;241m.\u001b[39msplitext(\u001b[38;5;28mself\u001b[39m\u001b[38;5;241m.\u001b[39mname)[\u001b[38;5;241m1\u001b[39m]\n\u001b[1;32m    635\u001b[0m \u001b[38;5;28;01mif\u001b[39;00m \u001b[38;5;129;01mnot\u001b[39;00m \u001b[38;5;28mself\u001b[39m\u001b[38;5;241m.\u001b[39m_try_read_compressed(\u001b[38;5;28mself\u001b[39m\u001b[38;5;241m.\u001b[39mname, magic, mode, ext\u001b[38;5;241m=\u001b[39mext):\n\u001b[0;32m--> 636\u001b[0m     \u001b[38;5;28mself\u001b[39m\u001b[38;5;241m.\u001b[39m_file \u001b[38;5;241m=\u001b[39m \u001b[38;5;28mopen\u001b[39m(\u001b[38;5;28mself\u001b[39m\u001b[38;5;241m.\u001b[39mname, IO_FITS_MODES[mode])\n\u001b[1;32m    637\u001b[0m     \u001b[38;5;28mself\u001b[39m\u001b[38;5;241m.\u001b[39mclose_on_error \u001b[38;5;241m=\u001b[39m \u001b[38;5;28;01mTrue\u001b[39;00m\n\u001b[1;32m    639\u001b[0m \u001b[38;5;66;03m# Make certain we're back at the beginning of the file\u001b[39;00m\n\u001b[1;32m    640\u001b[0m \u001b[38;5;66;03m# BZ2File does not support seek when the file is open for writing, but\u001b[39;00m\n\u001b[1;32m    641\u001b[0m \u001b[38;5;66;03m# when opening a file for write, bz2.BZ2File always truncates anyway.\u001b[39;00m\n",
      "\u001b[0;31mFileNotFoundError\u001b[0m: [Errno 2] No such file or directory: 'redux/ero-qpe2_pca_combined_spectra_ext_3D.fits'"
     ]
    }
   ],
   "source": [
    "# eRO-QPE2\n",
    "\n",
    "ini_w = 5655\n",
    "fin_w = 5745\n",
    "target_sn = 15\n",
    "\n",
    "object_name = list(sci_files_object_mapping.keys())[0]\n",
    "name = object_name.replace(\" \", \"\").lower()\n",
    "filename = f\"redux/{name}_pca_combined_spectra_ext_3D.fits\"\n",
    "vor = VorbinUtils(filename, ini_w, fin_w)\n",
    "vor.voronoi_bin(target_sn)\n",
    "vor.calculate_true_snr(plot=True)"
   ]
  },
  {
   "cell_type": "markdown",
   "metadata": {},
   "source": [
    "#### Resampling"
   ]
  },
  {
   "cell_type": "code",
   "execution_count": 8,
   "metadata": {},
   "outputs": [],
   "source": [
    "def resampling(res_lambda_min, res_lambda_max, rfwave, rfflux, rferr, qual):\n",
    "    lresamp = np.arange(res_lambda_min, res_lambda_max, 1)\n",
    "    matrix = ReSamplingMatrixNonUniform(rfwave, lresamp)\n",
    "    fresamp = np.dot(matrix, rfflux)\n",
    "    errresamp = np.dot(matrix, rferr)\n",
    "    qualresamp = np.dot(matrix, qual)\n",
    "\n",
    "    for i in range(len(qualresamp)):\n",
    "        if lresamp[i] < min(rfwave):\n",
    "            qualresamp[i] = 2\n",
    "\n",
    "        elif lresamp[i] > max(rfwave):\n",
    "            qualresamp[i] = 2\n",
    "\n",
    "        if qualresamp[i] > 0:\n",
    "            qualresamp[i] = 2\n",
    "\n",
    "    return lresamp, fresamp, errresamp, qualresamp"
   ]
  },
  {
   "cell_type": "code",
   "execution_count": 9,
   "metadata": {},
   "outputs": [],
   "source": [
    "lambda_min = int(np.min(wavelength))\n",
    "lambda_max = int(np.max(wavelength))\n",
    "res_wavelenght, res_signal, res_var, res_quality_map = resampling(\n",
    "    res_lambda_min=lambda_min,\n",
    "    res_lambda_max=lambda_max,\n",
    "    rfwave=wavelength,\n",
    "    rfflux=binned_data[0][\"signal\"],\n",
    "    rferr=binned_data[0][\"var\"],\n",
    "    qual=binned_data[0][\"quality_map\"],\n",
    ")\n",
    "\n",
    "resampled_data = {}\n",
    "for bin_id, bin_data in enumerate(binned_data.values()):\n",
    "    res_wavelenght, res_signal, res_var, res_quality_map = resampling(\n",
    "        res_lambda_min=lambda_min,\n",
    "        res_lambda_max=lambda_max,\n",
    "        rfwave=wavelength,\n",
    "        rfflux=binned_data[bin_id][\"signal\"],\n",
    "        rferr=binned_data[bin_id][\"var\"],\n",
    "        qual=binned_data[bin_id][\"quality_map\"],\n",
    "    )\n",
    "    resampled_data[bin_id] = {}\n",
    "    resampled_data[bin_id][\"wavelength\"] = res_wavelenght\n",
    "    resampled_data[bin_id][\"signal\"] = res_signal\n",
    "    resampled_data[bin_id][\"var\"] = res_var\n",
    "    resampled_data[bin_id][\"quality_map\"] = res_quality_map"
   ]
  },
  {
   "cell_type": "markdown",
   "metadata": {},
   "source": [
    "#### Create input files"
   ]
  },
  {
   "cell_type": "code",
   "execution_count": 10,
   "metadata": {},
   "outputs": [
    {
     "name": "stderr",
     "output_type": "stream",
     "text": [
      "/tmp/ipykernel_12670/3582690033.py:7: RuntimeWarning: invalid value encountered in sqrt\n",
      "  np.sqrt(bin_data[\"var\"]),\n"
     ]
    }
   ],
   "source": [
    "# Create obs input files\n",
    "for bin_id, bin_data in enumerate(resampled_data.values()):\n",
    "    input_data = np.stack(\n",
    "        [\n",
    "            bin_data[\"wavelength\"],\n",
    "            bin_data[\"signal\"],\n",
    "            np.sqrt(bin_data[\"var\"]),\n",
    "            bin_data[\"quality_map\"],\n",
    "        ],\n",
    "        axis=1,\n",
    "    )\n",
    "    np.savetxt(\n",
    "        f\"redux/starlight_synthesis/gsn069/obs_dir/{bin_id}\",\n",
    "        input_data,\n",
    "        fmt=[\"%f\", \"%f\", \"%f\", \"%d\"],\n",
    "    )"
   ]
  },
  {
   "cell_type": "code",
   "execution_count": 13,
   "metadata": {},
   "outputs": [],
   "source": [
    "# Create mask input files\n",
    "maskfilename = \"MaskEmissionAbsortionGSN069\"\n",
    "\n",
    "with open(\"redux/gsn069_masks.json\", \"r\") as f:\n",
    "    masks_json = json.load(f)\n",
    "\n",
    "window_range = 8\n",
    "masks_json[\"emission_centers\"] = np.round(masks_json[\"emission_centers\"])\n",
    "masks_json[\"emission_windows\"] = [\n",
    "    [emiss_center - window_range, emiss_center + window_range]\n",
    "    for emiss_center in masks_json[\"emission_centers\"]\n",
    "]\n",
    "\n",
    "\n",
    "all_masks = masks_json[\"emission_windows\"]\n",
    "all_masks.extend(masks_json[\"absortion_windows\"])\n",
    "nmasks = len(all_masks)\n",
    "\n",
    "with open(f\"redux/starlight_synthesis/{maskfilename}\", \"w\") as file:\n",
    "    file.write(str(nmasks) + \"\\n\")\n",
    "    for window in all_masks:\n",
    "        file.write(f\"{window[0]} {window[1]} 0 \\n\")"
   ]
  }
 ],
 "metadata": {
  "kernelspec": {
   "display_name": "Python 3 (ipykernel)",
   "language": "python",
   "name": "python3"
  },
  "language_info": {
   "codemirror_mode": {
    "name": "ipython",
    "version": 3
   },
   "file_extension": ".py",
   "mimetype": "text/x-python",
   "name": "python",
   "nbconvert_exporter": "python",
   "pygments_lexer": "ipython3",
   "version": "3.11.3"
  }
 },
 "nbformat": 4,
 "nbformat_minor": 2
}
