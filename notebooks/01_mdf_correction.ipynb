{
 "cells": [
  {
   "cell_type": "markdown",
   "metadata": {},
   "source": [
    "## MDF correction notebook\n",
    "\n",
    "The observation data includes a quality map of the instrument's observation units called MDF. This notebook is used to make corrections to the MDF. The process is iterative and manual. The investigation is conducted in another software (PyRAF), and the corrections are gradually applied using the code below."
   ]
  },
  {
   "cell_type": "code",
   "execution_count": 1,
   "metadata": {},
   "outputs": [],
   "source": [
    "from astropy.io import fits\n",
    "from astropy.table import Table"
   ]
  },
  {
   "cell_type": "code",
   "execution_count": 2,
   "metadata": {},
   "outputs": [],
   "source": [
    "# path = \"/gmos/gs-2022b-q-202/\"\n",
    "path = \"\""
   ]
  },
  {
   "cell_type": "code",
   "execution_count": 4,
   "metadata": {},
   "outputs": [
    {
     "data": {
      "text/html": [
       "<div>\n",
       "<style scoped>\n",
       "    .dataframe tbody tr th:only-of-type {\n",
       "        vertical-align: middle;\n",
       "    }\n",
       "\n",
       "    .dataframe tbody tr th {\n",
       "        vertical-align: top;\n",
       "    }\n",
       "\n",
       "    .dataframe thead th {\n",
       "        text-align: right;\n",
       "    }\n",
       "</style>\n",
       "<table border=\"1\" class=\"dataframe\">\n",
       "  <thead>\n",
       "    <tr style=\"text-align: right;\">\n",
       "      <th></th>\n",
       "      <th>NO</th>\n",
       "      <th>XINST</th>\n",
       "      <th>YINST</th>\n",
       "      <th>BLOCK</th>\n",
       "      <th>BEAM</th>\n",
       "      <th>XLDIS</th>\n",
       "      <th>YLDIS</th>\n",
       "    </tr>\n",
       "  </thead>\n",
       "  <tbody>\n",
       "    <tr>\n",
       "      <th>137</th>\n",
       "      <td>138</td>\n",
       "      <td>0.866013</td>\n",
       "      <td>2.5</td>\n",
       "      <td>b'H_38 '</td>\n",
       "      <td>-1</td>\n",
       "      <td>26</td>\n",
       "      <td>24</td>\n",
       "    </tr>\n",
       "    <tr>\n",
       "      <th>204</th>\n",
       "      <td>205</td>\n",
       "      <td>58.268002</td>\n",
       "      <td>4.0</td>\n",
       "      <td>b'20_5 '</td>\n",
       "      <td>-1</td>\n",
       "      <td>41</td>\n",
       "      <td>19</td>\n",
       "    </tr>\n",
       "    <tr>\n",
       "      <th>449</th>\n",
       "      <td>450</td>\n",
       "      <td>58.787609</td>\n",
       "      <td>4.9</td>\n",
       "      <td>b'19_50'</td>\n",
       "      <td>-1</td>\n",
       "      <td>50</td>\n",
       "      <td>16</td>\n",
       "    </tr>\n",
       "    <tr>\n",
       "      <th>689</th>\n",
       "      <td>690</td>\n",
       "      <td>61.558849</td>\n",
       "      <td>2.9</td>\n",
       "      <td>b'11_40'</td>\n",
       "      <td>-1</td>\n",
       "      <td>30</td>\n",
       "      <td>0</td>\n",
       "    </tr>\n",
       "    <tr>\n",
       "      <th>691</th>\n",
       "      <td>692</td>\n",
       "      <td>61.558849</td>\n",
       "      <td>3.3</td>\n",
       "      <td>b'11_42'</td>\n",
       "      <td>-1</td>\n",
       "      <td>34</td>\n",
       "      <td>0</td>\n",
       "    </tr>\n",
       "    <tr>\n",
       "      <th>747</th>\n",
       "      <td>748</td>\n",
       "      <td>0.173203</td>\n",
       "      <td>4.5</td>\n",
       "      <td>b'J_48 '</td>\n",
       "      <td>-1</td>\n",
       "      <td>46</td>\n",
       "      <td>28</td>\n",
       "    </tr>\n",
       "    <tr>\n",
       "      <th>748</th>\n",
       "      <td>749</td>\n",
       "      <td>0.173203</td>\n",
       "      <td>4.7</td>\n",
       "      <td>b'J_49 '</td>\n",
       "      <td>-1</td>\n",
       "      <td>48</td>\n",
       "      <td>28</td>\n",
       "    </tr>\n",
       "    <tr>\n",
       "      <th>749</th>\n",
       "      <td>750</td>\n",
       "      <td>0.173203</td>\n",
       "      <td>4.9</td>\n",
       "      <td>b'J_50 '</td>\n",
       "      <td>-1</td>\n",
       "      <td>50</td>\n",
       "      <td>28</td>\n",
       "    </tr>\n",
       "  </tbody>\n",
       "</table>\n",
       "</div>"
      ],
      "text/plain": [
       "      NO      XINST  YINST     BLOCK  BEAM  XLDIS  YLDIS\n",
       "137  138   0.866013    2.5  b'H_38 '    -1     26     24\n",
       "204  205  58.268002    4.0  b'20_5 '    -1     41     19\n",
       "449  450  58.787609    4.9  b'19_50'    -1     50     16\n",
       "689  690  61.558849    2.9  b'11_40'    -1     30      0\n",
       "691  692  61.558849    3.3  b'11_42'    -1     34      0\n",
       "747  748   0.173203    4.5  b'J_48 '    -1     46     28\n",
       "748  749   0.173203    4.7  b'J_49 '    -1     48     28\n",
       "749  750   0.173203    4.9  b'J_50 '    -1     50     28"
      ]
     },
     "execution_count": 4,
     "metadata": {},
     "output_type": "execute_result"
    }
   ],
   "source": [
    "fname = f\"{path}redux/rgS20220918S0058.fits\"\n",
    "\n",
    "dat = Table.read(fname, format=\"fits\")\n",
    "mdf = dat.to_pandas()\n",
    "mdf.loc[mdf[\"BEAM\"] == -1]"
   ]
  },
  {
   "cell_type": "markdown",
   "metadata": {},
   "source": [
    "##### Iterative corrections "
   ]
  },
  {
   "cell_type": "code",
   "execution_count": null,
   "metadata": {},
   "outputs": [],
   "source": [
    "# Comments keep track of changes\n",
    "# 743 = 1\n",
    "# 744 = 1\n",
    "# 745 = 1\n",
    "# 746 = 1\n",
    "# 747 = 1\n",
    "\n",
    "with fits.open(fname) as file:\n",
    "    file[\"MDF\"].data[746][4] = 1\n",
    "    file.writeto(fname, overwrite=True)"
   ]
  },
  {
   "cell_type": "markdown",
   "metadata": {},
   "source": [
    "##### Make master MDF - Works for both star and science"
   ]
  },
  {
   "cell_type": "code",
   "execution_count": null,
   "metadata": {},
   "outputs": [],
   "source": [
    "fibers_to_activate = [743, 744, 745, 746, 747]\n",
    "mdf_filename = \"gsifu_slitr_mdf_HAM.fits\"\n",
    "\n",
    "mdf = Table.read(f\"{path}redux/{mdf_filename}\")\n",
    "\n",
    "for fiber in fibers_to_activate:\n",
    "    mdf[\"BEAM\"][fiber - 1] = 1\n",
    "\n",
    "mdf.write(f\"{path}redux/reviewed_{mdf_filename}\", overwrite=True)"
   ]
  }
 ],
 "metadata": {
  "kernelspec": {
   "display_name": "Python 3 (ipykernel)",
   "language": "python",
   "name": "python3"
  },
  "language_info": {
   "codemirror_mode": {
    "name": "ipython",
    "version": 3
   },
   "file_extension": ".py",
   "mimetype": "text/x-python",
   "name": "python",
   "nbconvert_exporter": "python",
   "pygments_lexer": "ipython3",
   "version": "3.11.3"
  }
 },
 "nbformat": 4,
 "nbformat_minor": 2
}
